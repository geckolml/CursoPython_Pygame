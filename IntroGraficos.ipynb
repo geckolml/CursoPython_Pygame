{
 "cells": [
  {
   "cell_type": "markdown",
   "metadata": {},
   "source": [
    "***\n",
    "# Introduccion a los Graficos\n",
    "***\n",
    "En este apartado trabajaremos la interfaz gráfica de usuario (GUI) en python mediante el uso de la librería pygame.\n",
    "\n",
    "Aprenderemos: \n",
    "\n",
    "* Como la computadora maneja los sistemas de coordenadas x,y.\n",
    "* Como especificar colores.(RGB)\n",
    "* Como generar una ventana en blanco para dibujo.(canvas)\n",
    "* Como dibujar lineas, rectangulos, elipses y arcos."
   ]
  },
  {
   "cell_type": "markdown",
   "metadata": {},
   "source": [
    "## Sistema de Coordenadas\n",
    "***\n",
    "Para ello necesitamos conocer como trabaja el sistema de coordenadas en nuestro computador.\n",
    "\n",
    "* Eje X: De Izquierda hacia Derecha.\n",
    "* Eje Y: De Arriba hacia abajo.\n",
    "\n",
    "![debug2](images/sisCoord.png \"Sistema de Coordenadas\")"
   ]
  },
  {
   "cell_type": "markdown",
   "metadata": {},
   "source": [
    "## Libreria Pygame\n",
    "***\n",
    "\n",
    "Es un conjunto de modulos de python para diseñar juegos.\n",
    "Esta escrito sobre la biblioteca SDL. Te permite crear juegos y programas multimedia en el lenguaje python. \n",
    "\n",
    "Nos permite :\n",
    "\n",
    "* Dibujar figuras(elipses, rectangulos, etc).\n",
    "* Mostrar imagenes con mapeo de bits.(bitmapped images).\n",
    "* Animar.\n",
    "* Interactuar con el teclado, mouse y gamepad.\n",
    "* Sonido.\n",
    "* Detectar cuando los objetos colisionan.\n",
    "\n",
    "\n",
    "\n",
    "Todo programa que usa Pygame debe empezar de la siguiente forma:\n",
    "\n",
    "\n",
    "\n",
    "```python\n",
    "#Importar la libreria pygame\n",
    "import pygame\n",
    "#Iniciar el Motor de juegos\n",
    "pygame.init()\n",
    "```\n"
   ]
  },
  {
   "cell_type": "markdown",
   "metadata": {},
   "source": [
    "# Colores\n",
    "***\n",
    "\n",
    "Para el uso de colores utilizaremos listas en python cuyos elementos son (Red | Green | Blue) cuyos valores van de 0 - 255 .\n",
    "\n",
    "Ejemplo:\n"
   ]
  },
  {
   "cell_type": "code",
   "execution_count": 4,
   "metadata": {
    "collapsed": true
   },
   "outputs": [],
   "source": [
    "NEGRO=(0,0,0)\n",
    "BLANCO=(255,255,255)\n",
    "AZUL=(0,0,255) # Recordar que los componentes de la lista\n",
    "               # tienen valores entre 0-255"
   ]
  },
  {
   "cell_type": "markdown",
   "metadata": {},
   "source": [
    "### Otros Ejemplos de colores\n",
    "\n",
    "\n",
    "| Color  |  Valor RGB |\n",
    "|---|---|\n",
    "|`Fucsia` | \t(255,0,255)|\n",
    "|`Gris`   | (128,128,128) |\n",
    "|`Morado` | (128,0,128)   | \n",
    "| `Azul Marino` | (0,0,128)|\n",
    "| `Granate` | (128,0,0) |\n",
    "| `Marron`  |   (141,73,37) | \n",
    "\n"
   ]
  },
  {
   "cell_type": "markdown",
   "metadata": {},
   "source": [
    "\n",
    "![rgdb]( images/rgb.jpg \"RGB\")\n",
    "\n"
   ]
  },
  {
   "cell_type": "markdown",
   "metadata": {},
   "source": [
    "## Módulos de Pygame\n",
    "***\n",
    "\n",
    "| Módulo  |  Descripción |\n",
    "|---|---|\n",
    "|cdrom | \tReproducción|\n",
    "|cursors \t| Cargas las imagenes del cursor, incluir cursores estandares |\n",
    "|display |\tControl de ventana de visualizacion o pantalla|\n",
    "|draw \t| Dibuja figuras simples en una superficie|\n",
    "|event |\tAdministra eventos y la cola de eventos|\n",
    "|font |\tCrea y renderiza fuentes|\n",
    "|image |\tGuarda y carga imagenes|\n",
    "|joystick |\tManeja dispositivos joystick|\n",
    "|key |\tAdministra los eventos de teclado|\n",
    "|mouse |\tAdministra el mouse|\n",
    "|sndarray |\tManipular sonidos con numpy|\n",
    "|surfarray |\tManipular imagenes con numpy|\n",
    "|time |\tControl del Timer|\n",
    "|transform | \tEscalar, rotar, y voltear la imagenes |\n",
    " "
   ]
  },
  {
   "cell_type": "markdown",
   "metadata": {},
   "source": [
    "# Hola Mundo ! con Pygame\n",
    "***"
   ]
  },
  {
   "cell_type": "code",
   "execution_count": 1,
   "metadata": {
    "collapsed": false
   },
   "outputs": [
    {
     "ename": "SystemExit",
     "evalue": "",
     "output_type": "error",
     "traceback": [
      "An exception has occurred, use %tb to see the full traceback.\n",
      "\u001b[0;31mSystemExit\u001b[0m\n"
     ]
    },
    {
     "name": "stderr",
     "output_type": "stream",
     "text": [
      "/home/geckolml/.local/lib/python2.7/site-packages/IPython/core/interactiveshell.py:2889: UserWarning: To exit: use 'exit', 'quit', or Ctrl-D.\n",
      "  warn(\"To exit: use 'exit', 'quit', or Ctrl-D.\", stacklevel=1)\n"
     ]
    }
   ],
   "source": [
    "# Programa de Hola Mundo con Pygame\n",
    "import pygame, sys # Importamos los modulos pygame y sys del sistema para poder utilizar sus funciones\n",
    "from pygame.locals import * # Importar modulo de pygame de forma optima\n",
    "\n",
    "pygame.init() # Inicializamos pygame\n",
    "screen = pygame.display.set_mode((550,500)) # Se crea es objeto display Surface\n",
    "                                            # Recibe una tupla 550 pixels de ancho(width) 500 pixels de alto(height).\n",
    "pygame.display.set_caption('Hola Mundo con Pygame | ACECOM') # Se define el titulo\n",
    "while True: # loop Principal\n",
    "    for event in pygame.event.get():\n",
    "        if event.type == QUIT:\n",
    "            pygame.quit()\n",
    "            sys.exit()\n",
    "    pygame.display.update()\n"
   ]
  },
  {
   "cell_type": "markdown",
   "metadata": {},
   "source": [
    "# Objeto Surface y la ventana\n",
    "***\n",
    "\n",
    "Objetos **Surface** son objetos que representan una imagen rectangular 2D. Los pixeles del objeto Surface pueden ser cambiados llamando las funciones de dibujo de Pygame y luego mostrados en la ventana. Los bordes de la ventana, la barra del titulo, y botones en la parte superior no son partes de el objeto Surface.\n",
    "\n",
    "En particular, el objeto **Surface** que es retornado por *pygame.display.set_mode()* es llamado objeto **display Surface**.\n",
    "\n",
    "Nada de lo que es dibujado en el objeto display Surface sera mostrado en la ventana cuando la funcion *pygame.display_update()* es llamada. Es mucho mas rapido que dibujar un objeto Surface( que solo existe en la memoria de la computadora) que dibujar un objeto Surface en la pantalla de la computadora\n",
    "\n",
    "# Frames\n",
    "***\n",
    "\n",
    "Un frame es llamado a la pantalla en un instante de tiempo, casi como cuando es pausado un DVD.\n",
    "\n",
    "La computadora en particular puede dibujar frames muy rapido, y nuestros programas frecuentemente correran 30 frames por segundo (30 FPS).\n",
    "\n",
    "# Game Loops y Game States\n",
    "***\n",
    "\n",
    "```python\n",
    "   while True:\n",
    "       for event in pygame.event.get(): \n",
    "```\n",
    "En el codigo inicial vemos un *while True:* que nos indica un while que nunca se detiene a menos que se ejecute un comando *break* o sys.exit(). \n",
    "\n",
    "-> Un *Game Loop* tambien llamado Loop principal is un loop donde el codigo hace tres cosas:\n",
    "\n",
    "* Manejo de Eventos\n",
    "\n",
    "* Actualiza el Game State.\n",
    "* Dibuja el Game State en la pantalla.\n",
    "\n",
    "\n",
    "-> El *Game State* es un modo simple de referirse a los conjuntos de valores para todas las variables en un juego. En muchos juegos, el *Game State* incluye los valores en las variables que son la vida y posicion de los jugadores.\n",
    "\n",
    "\n",
    "\n",
    "\n",
    "![gamestate](images/GameState.png)\n",
    "Imagen del Libro Making Games with Python and Pygame | Al Sweigart\n",
    "\n",
    "\n",
    "# El evento QUIT y funcion pygame.quit()\n",
    "***\n",
    "\n",
    "```python\n",
    "if event.type == QUIT:\n",
    "    pygame.quit(()\n",
    "    sys.exit()\n",
    "```\n",
    "\n",
    "La siguiente instruccion *event.type == QUIT*\n",
    "Chequea si el objeto Evento es igual a la constante QUIT.\n",
    "Tu programa dee siempre llamar pygame.quit() despues de sys.exit(). pygame.qyut() es el opuesto a pygame.init(): este codigo hace que desactive la libreria Pygame.\n",
    "\n",
    "# La funcion pygame.display.update()\n",
    "***\n",
    "\n",
    "Despues de que se realice cualquier dibujo en el Surface necesitamos ejecutar la funcion pygame.display.update() para hacer que el objeto display Surface aparezca en el monitor del usuario."
   ]
  },
  {
   "cell_type": "code",
   "execution_count": 2,
   "metadata": {
    "collapsed": false
   },
   "outputs": [],
   "source": [
    "import pygame # Importamos la libreria pygame\n",
    "pygame.init() # Iniciamos pygame\n",
    "size=(700,500) ## Define el tamaño de la ventana(canvas). Es un lista de valores de Width and Height.\n",
    "screen=pygame.display.set_mode(size) ## Se lanza la ventana.\n",
    "# set_mode : Hace mas que open_window. Puede crear juegos con modo fullscreen.Elimina el menu\n",
    "# de inicio, barras de titulos, y te da el control del juego en toda la pantalla.\n",
    "pygame.display.set_caption(\"Mi primer juego | ACECOM\")\n",
    "\n"
   ]
  },
  {
   "cell_type": "markdown",
   "metadata": {},
   "source": [
    "## Dibujando Linea\n",
    "***\n",
    "\n",
    "#### Sintaxis \n",
    " \n",
    "> line(Surface, color, start_pos, end_pos, width=1)\n",
    "\n",
    "> start_pos -> [x0,y0] vertice inicial de coordenadas x0, y0\n",
    "\n",
    "> end_pos -> [x,y] vertice final de coordenadas x, y"
   ]
  },
  {
   "cell_type": "code",
   "execution_count": 18,
   "metadata": {
    "collapsed": false
   },
   "outputs": [],
   "source": [
    "## Dibujando line\n",
    "\n",
    "import pygame # Importamos libreria pygame\n",
    "import math   # Importamos libreria math\n",
    "\n",
    "pygame.init() # Iniciamos pygame\n",
    "x=500  # Variable auxiliar\n",
    "BLACK = (0 , 0 , 0)\n",
    "WHITE = (255 , 255 , 255)\n",
    "BLUE  = (0, 0, 255)\n",
    "GREEN = (0, 255, 0)\n",
    "RED   = (255, 0, 0) \n",
    "\n",
    "PI = math.pi # Valor de pi obtenido por libreria math\n",
    "\n",
    "size\t= (800,700) # Tamaño total de la pantalla\n",
    "\n",
    "screen \t= pygame.display.set_mode(size) # Se abre el canvas\n",
    "\n",
    "pygame.display.set_caption(\"DIBUJANDO Line | ACECOM\") # Definir titulo de la ventana\n",
    "\n",
    "done \t= False # Variable Bandera para salir del loop principal del programa\n",
    "\n",
    "# Bucle Principal del Programa\n",
    "while not done:\n",
    "\t# Listener de eventos\n",
    "\tfor event in pygame.event.get():\n",
    "\t\tif event.type == pygame.QUIT:\n",
    "\t\t\tdone = True # Poner True a la bandera, si el usuario cierra la ventana.\n",
    "\n",
    "\tscreen.fill(BLACK) # Fondo de pantalla negro\n",
    "        pygame.draw.line(screen,GREEN,[50,100],[50+x,100+x],2) # Dibujo de una linea\n",
    "        pygame.draw.line(screen,RED,[50,100+x],[50+x,100],2)  # Dibujo de una linea\n",
    "  \n",
    "        pygame.display.update()\n",
    "\n",
    "\n",
    "# Terminar el programa    \n",
    "pygame.quit()"
   ]
  },
  {
   "cell_type": "markdown",
   "metadata": {},
   "source": [
    "## Dibujando Lineas\n",
    "***\n",
    "\n",
    "#### Sintaxis \n",
    " \n",
    "> lines(Surface, color, closed, pointlist, width=1)\n",
    "\n",
    "> poinlist -> Lista de puntos\n",
    "\n",
    "Dibuja una secuencia de lineas en una superficie. El argumento pointlist es una serie de puntos que estan conectados por una linea. Si el argumento closed es True una linea adicional es dibujada entre el punto inicial y el punto final."
   ]
  },
  {
   "cell_type": "code",
   "execution_count": 16,
   "metadata": {
    "collapsed": true
   },
   "outputs": [],
   "source": [
    "## Dibujando lines\n",
    "## Uso de lines para el dibujo de figuras en el canvas CS-UNI\n",
    "import pygame\n",
    "import math\n",
    "\n",
    "pygame.init()\n",
    "\n",
    "BLACK = (0 , 0 , 0)\n",
    "WHITE = (255 , 255 , 255)\n",
    "BLUE  = (0, 0, 255)\n",
    "GREEN = (0, 255, 0)\n",
    "RED   = (255, 0, 0) \n",
    "\n",
    "PI = math.pi\n",
    "\n",
    "size\t= (800,700)\n",
    "\n",
    "screen \t= pygame.display.set_mode(size) # Se abre el canvas\n",
    "pygame.display.set_caption(\"DIBUJANDO LINES | ACECOM\")\n",
    "done \t= False\n",
    "\n",
    "x=10\n",
    "\n",
    "while not done:\n",
    "\t\n",
    "\tfor event in pygame.event.get():\n",
    "\t\tif event.type == pygame.QUIT:\n",
    "\t\t\tdone = True\n",
    "\n",
    "\tscreen.fill(BLACK)\n",
    "        pygame.draw.lines(screen,RED,False,[[350,200],[250,200],[250,400],[350,400]],5) # C\n",
    "        pygame.draw.lines(screen,RED,False,[[550,200],[450,200],[450,300],[550,300],[550,400],[450,400]],5) # S\n",
    "  \n",
    "\n",
    "        pygame.draw.lines(screen,BLUE,True,[[350,550],[450,550],[450,650],[350,650]],7) # Rectangulo azul\n",
    "    \n",
    "        pygame.draw.lines(screen,BLUE,False,[[360+x,560],[360+x,640],[380+x,640],[380+x,560]],7) #U\n",
    "        pygame.draw.lines(screen,BLUE,False,[[390+x,640],[390+x,560],[410+x,640],[410+x,560]],7) #N\n",
    "        pygame.draw.lines(screen,BLUE,False,[[420+x,560],[420+x,640]],7)                         #I\n",
    "\tpygame.display.update()\n",
    "\n",
    "pygame.quit()"
   ]
  },
  {
   "cell_type": "markdown",
   "metadata": {},
   "source": [
    "##  Dibujando Rectangulos\n",
    "***\n",
    "\n",
    "#### Sintaxis\n",
    "\n",
    "> rect(Surface, color, Rect, width=0)\n",
    "\n",
    "> Rect(left, top, width, height) -> Rect"
   ]
  },
  {
   "cell_type": "code",
   "execution_count": 5,
   "metadata": {
    "collapsed": false
   },
   "outputs": [],
   "source": [
    "## Dibujando Rectangulos con el uso de pygame.draw.rect()\n",
    "import pygame\n",
    "import math\n",
    "\n",
    "pygame.init()\n",
    "\n",
    "NEGRO = (0 , 0 , 0)\n",
    "BLANCO = (255 , 255 , 255)\n",
    "AZUL  = (0, 0, 255)\n",
    "VERDE = (0, 255, 0)\n",
    "ROJO   = (255, 0, 0) \n",
    "\n",
    "PI = math.pi\n",
    "\n",
    "size\t= (800,700)\n",
    "\n",
    "screen \t= pygame.display.set_mode(size) # Se abre el canvas\n",
    "pygame.display.set_caption(\"DIBUJANDO RECTANGULOS  | ACECOM\")\n",
    "done \t= False\n",
    "\n",
    "x, y = screen.get_size() # Se Obtienen el width y height de toda la ventana\n",
    "\n",
    "while not done:\n",
    "\t\n",
    "\tfor event in pygame.event.get():\n",
    "\t\tif event.type == pygame.QUIT:\n",
    "\t\t\tdone = True\n",
    "\n",
    "\tscreen.fill(NEGRO)\n",
    "        pygame.draw.rect(screen,VERDE,[x/4, y/4,x/2,y/2],2)\n",
    "        pygame.draw.rect(screen,BLANCO,[3*x/8, 3*y/8,x/4,y/4],2)\n",
    "\n",
    "\tpygame.display.update()\n",
    "\n",
    "pygame.quit()"
   ]
  },
  {
   "cell_type": "markdown",
   "metadata": {},
   "source": [
    "## Dibujando Elipses\n",
    "***\n",
    "\n",
    "#### Sintaxis \n",
    "  \n",
    "> ellipse(Surface, color, Rect, width=0)\n",
    "\n",
    "> Rect(left, top, width, height) -> Rect\n",
    "\n",
    "Dibuja una figura eliptica dentro del Rectangulo definido en una superficie. \n",
    "\n",
    "Rect [x0,y0,x,y] :\n",
    "\n",
    "x0 y0 son las coordenadas de de una esquina del rectangulo. x,y son las otras coordenadas de esquina opuesta a x0,y0 "
   ]
  },
  {
   "cell_type": "code",
   "execution_count": 20,
   "metadata": {
    "collapsed": false
   },
   "outputs": [],
   "source": [
    "## Dibujando Elipses\n",
    "\n",
    "import pygame\n",
    "import math\n",
    "\n",
    "pygame.init()\n",
    "\n",
    "BLACK = (0 , 0 , 0)\n",
    "WHITE = (255 , 255 , 255)\n",
    "BLUE  = (0, 0, 255)\n",
    "GREEN = (0, 255, 0)\n",
    "RED   = (255, 0, 0) \n",
    "\n",
    "PI = math.pi\n",
    "\n",
    "size\t= (800,700)\n",
    "\n",
    "screen \t= pygame.display.set_mode(size) # Se abre el canvas\n",
    "pygame.display.set_caption(\"DIBUJANDO ELIPSES   |  ACECOM\")\n",
    "done \t= False\n",
    "x, y = screen.get_size()\n",
    "\n",
    "while not done:\n",
    "\t\n",
    "\tfor event in pygame.event.get():\n",
    "\t\tif event.type == pygame.QUIT:\n",
    "\t\t\tdone = True\n",
    "\n",
    "\tscreen.fill(BLACK)\n",
    "        pygame.draw.ellipse(screen,RED,[0, 0,x,y],2)\n",
    "        pygame.draw.ellipse(screen,GREEN,[100, 100,x/2,y/2],2)\n",
    "        pygame.draw.ellipse(screen,BLUE,[200, 200,3*x/4,y/4],2)\n",
    "        pygame.display.update()\n",
    "\n",
    "pygame.quit()"
   ]
  },
  {
   "cell_type": "markdown",
   "metadata": {},
   "source": [
    "## Dibujando Arcos\n",
    "***\n",
    "\n",
    "#### Sintaxis \n",
    "  \n",
    "> arc(Surface, color, Rect, start_angle, stop_angle, width=1) \n",
    "\n",
    "> Rect(left, top, width, height) -> Rect\n",
    "\n",
    "Dibuja un arco eliptico en una superficie. Los angulos parametro start_angle y stop_angle son los angulos inicial y final en radianes con el cero a la derecha."
   ]
  },
  {
   "cell_type": "code",
   "execution_count": 19,
   "metadata": {
    "collapsed": true
   },
   "outputs": [],
   "source": [
    "# Dibujando arcos \n",
    "import pygame\n",
    "import math\n",
    "pygame.init()\n",
    "\n",
    "BLACK = (0,0,0)\n",
    "WHITE = (255, 255, 255)\n",
    "BLUE = (0, 0, 255)\n",
    "GREEN = (0, 255, 0)\n",
    "RED = (255, 0 ,0)\n",
    "\n",
    "\n",
    "PI= math.pi\n",
    "\n",
    "size = (700 , 500)\n",
    "screen = pygame.display.set_mode(size)\n",
    "pygame.display.set_caption(\"Dibujando arco y texto   |  ACECOM\")\n",
    "done=False\n",
    "\n",
    "while not done:\n",
    "\n",
    "\tfor event in pygame.event.get():\n",
    "\t\tif event.type == pygame.QUIT:\n",
    "\t\t\tdone=True\n",
    "\n",
    "\tscreen.fill(BLACK)\n",
    "\n",
    "\t\n",
    "\tpygame.draw.arc(screen, GREEN ,[100, 100, 250, 200], PI/2, PI, 2) # Cuarto de circunferencia de color VERDE\n",
    "\tpygame.draw.arc(screen, RED ,[100, 100, 250, 200], 0, PI/2, 2)  # Cuarto de circunferencia de color ROJO\n",
    "\tpygame.draw.arc(screen, WHITE ,[100, 100, 250, 200], 3*PI/2, 2*PI, 2) # Cuarto de circunferencia de color BLANCO\n",
    "\tpygame.draw.arc(screen, BLUE ,[100, 100, 250, 200], PI, 3*PI/2, 2) # Cuarto de circunferencia de color AZUL\n",
    "\t\n",
    "\n",
    "\tfont = pygame.font.SysFont('Calibri',25, True, False) # Define tipo de letra\n",
    "\ttext = font.render(\"Curso de Python - Veranito 2017 =D | ACECOM\", True, WHITE)\n",
    "\n",
    "\tscreen.blit(text, [50,50]) # Insertar texto en el canvas con posicion [50,50]\n",
    "\t\n",
    "\tpygame.display.update()\n",
    "\n",
    "pygame.quit()\n"
   ]
  },
  {
   "cell_type": "markdown",
   "metadata": {},
   "source": [
    "## Dibujando Poligonos\n",
    "***\n",
    "\n",
    "#### Sintaxis \n",
    "  \n",
    "> polygon(Surface, color, pointlist, width=0)\n",
    "\n",
    "> poinlist -> Lista de puntos \n",
    "\n",
    "\n",
    "Dibuja la figura de un poligono en una superficie. El argumento pointlist son los vertices del poligono.\n",
    "\n"
   ]
  },
  {
   "cell_type": "code",
   "execution_count": 21,
   "metadata": {
    "collapsed": false
   },
   "outputs": [],
   "source": [
    "# Dibujando poligono \n",
    "import pygame\n",
    "import math\n",
    "pygame.init()\n",
    "\n",
    "BLACK = (0,0,0)\n",
    "WHITE = (255, 255, 255)\n",
    "BLUE = (0, 0, 255)\n",
    "GREEN = (0, 255, 0)\n",
    "RED = (255, 0 ,0)\n",
    "\n",
    "\n",
    "PI= math.pi\n",
    "\n",
    "size = (700 , 500)\n",
    "screen = pygame.display.set_mode(size)\n",
    "pygame.display.set_caption(\"Dibujando Poligono  | ACECOM\")\n",
    "done=False\n",
    "x, y = screen.get_size()\n",
    "\n",
    "\n",
    "while not done:\n",
    "\n",
    "\tfor event in pygame.event.get():\n",
    "\t\tif event.type == pygame.QUIT:\n",
    "\t\t\tdone=True\n",
    "\n",
    "\tscreen.fill(BLACK)\n",
    "\n",
    "        pygame.draw.polygon(screen, RED, [[x/2, y/2], [40, y-40], [x-40, y-40]], 5) ## Dibujamos un triangulo\n",
    "\tpygame.display.update()\n",
    "\n",
    "pygame.quit()\n"
   ]
  }
 ],
 "metadata": {
  "anaconda-cloud": {},
  "kernelspec": {
   "display_name": "Python [default]",
   "language": "python",
   "name": "python2"
  },
  "language_info": {
   "codemirror_mode": {
    "name": "ipython",
    "version": 2
   },
   "file_extension": ".py",
   "mimetype": "text/x-python",
   "name": "python",
   "nbconvert_exporter": "python",
   "pygments_lexer": "ipython2",
   "version": "2.7.12"
  }
 },
 "nbformat": 4,
 "nbformat_minor": 0
}
